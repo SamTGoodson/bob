{
 "cells": [
  {
   "cell_type": "code",
   "execution_count": 1,
   "metadata": {},
   "outputs": [],
   "source": [
    "import pandas as pd\n",
    "import numpy as np\n",
    "import os\n",
    "\n",
    "import time\n",
    "\n",
    "import spotipy\n",
    "from spotipy.oauth2 import SpotifyOAuth\n",
    "from spotipy.exceptions import SpotifyException\n",
    "\n",
    "from scipy.spatial import distance"
   ]
  },
  {
   "cell_type": "code",
   "execution_count": 2,
   "metadata": {},
   "outputs": [],
   "source": [
    "from dotenv import load_dotenv"
   ]
  },
  {
   "cell_type": "code",
   "execution_count": 3,
   "metadata": {},
   "outputs": [],
   "source": [
    "from sklearn.neighbors import NearestNeighbors"
   ]
  },
  {
   "cell_type": "code",
   "execution_count": 4,
   "metadata": {},
   "outputs": [
    {
     "data": {
      "text/plain": [
       "True"
      ]
     },
     "execution_count": 4,
     "metadata": {},
     "output_type": "execute_result"
    }
   ],
   "source": [
    "load_dotenv()"
   ]
  },
  {
   "cell_type": "code",
   "execution_count": 5,
   "metadata": {},
   "outputs": [],
   "source": [
    "SPOTIPY_CLIENT_ID = os.getenv('SPOTIPY_CLIENT_ID')\n",
    "SPOTIPY_CLIENT_SECRET = os.getenv('SPOTIPY_CLIENT_SECRET')\n",
    "SPOTIPY_REDIRECT_URI = os.getenv('SPOTIPY_REDIRECT_URI')"
   ]
  },
  {
   "cell_type": "code",
   "execution_count": 6,
   "metadata": {},
   "outputs": [],
   "source": [
    "scope = \"user-library-read user-top-read playlist-modify-public\""
   ]
  },
  {
   "cell_type": "code",
   "execution_count": 7,
   "metadata": {},
   "outputs": [],
   "source": [
    "sp = spotipy.Spotify(auth_manager=SpotifyOAuth(scope=scope))"
   ]
  },
  {
   "cell_type": "code",
   "execution_count": 8,
   "metadata": {},
   "outputs": [],
   "source": [
    "me = sp.current_user()"
   ]
  },
  {
   "cell_type": "code",
   "execution_count": 9,
   "metadata": {},
   "outputs": [
    {
     "data": {
      "text/plain": [
       "{'display_name': 'Sam Goodson',\n",
       " 'external_urls': {'spotify': 'https://open.spotify.com/user/stg58661521'},\n",
       " 'href': 'https://api.spotify.com/v1/users/stg58661521',\n",
       " 'id': 'stg58661521',\n",
       " 'images': [],\n",
       " 'type': 'user',\n",
       " 'uri': 'spotify:user:stg58661521',\n",
       " 'followers': {'href': None, 'total': 1}}"
      ]
     },
     "execution_count": 9,
     "metadata": {},
     "output_type": "execute_result"
    }
   ],
   "source": [
    "me"
   ]
  },
  {
   "cell_type": "markdown",
   "metadata": {},
   "source": [
    "Get bob"
   ]
  },
  {
   "cell_type": "code",
   "execution_count": 10,
   "metadata": {},
   "outputs": [
    {
     "data": {
      "text/plain": [
       "{'external_urls': {'spotify': 'https://open.spotify.com/artist/74ASZWbe4lXaubB36ztrGX'},\n",
       " 'followers': {'href': None, 'total': 6302011.0},\n",
       " 'genres': ['classic rock',\n",
       "  'country rock',\n",
       "  'folk',\n",
       "  'folk rock',\n",
       "  'rock',\n",
       "  'roots rock',\n",
       "  'singer-songwriter'],\n",
       " 'href': 'https://api.spotify.com/v1/artists/74ASZWbe4lXaubB36ztrGX',\n",
       " 'id': '74ASZWbe4lXaubB36ztrGX',\n",
       " 'images': [{'url': 'https://i.scdn.co/image/ab6772690000c46cd7064356b04a156664a37c4f',\n",
       "   'height': 1000.0,\n",
       "   'width': 1000.0},\n",
       "  {'url': 'https://i.scdn.co/image/ab6772690000dd22d7064356b04a156664a37c4f',\n",
       "   'height': 640.0,\n",
       "   'width': 640.0},\n",
       "  {'url': 'https://i.scdn.co/image/ab6772690000bac3d7064356b04a156664a37c4f',\n",
       "   'height': 200.0,\n",
       "   'width': 200.0},\n",
       "  {'url': 'https://i.scdn.co/image/ab67726900008f74d7064356b04a156664a37c4f',\n",
       "   'height': 64.0,\n",
       "   'width': 64.0}],\n",
       " 'name': 'Bob Dylan',\n",
       " 'popularity': 70.0,\n",
       " 'type': 'artist',\n",
       " 'uri': 'spotify:artist:74ASZWbe4lXaubB36ztrGX'}"
      ]
     },
     "execution_count": 10,
     "metadata": {},
     "output_type": "execute_result"
    }
   ],
   "source": [
    "sp.artist('74ASZWbe4lXaubB36ztrGX')"
   ]
  },
  {
   "cell_type": "code",
   "execution_count": 50,
   "metadata": {},
   "outputs": [],
   "source": [
    "results = sp.artist_albums('74ASZWbe4lXaubB36ztrGX', album_type='album', limit=20)\n",
    "albums = results['items']"
   ]
  },
  {
   "cell_type": "code",
   "execution_count": 51,
   "metadata": {},
   "outputs": [],
   "source": [
    "results_two = sp.artist_albums('74ASZWbe4lXaubB36ztrGX', album_type='album', limit=20, offset=20)\n",
    "albums_two = results_two['items']"
   ]
  },
  {
   "cell_type": "code",
   "execution_count": 52,
   "metadata": {},
   "outputs": [],
   "source": [
    "results_three = sp.artist_albums('74ASZWbe4lXaubB36ztrGX', album_type='album', limit=20, offset=40)\n",
    "albums_three = results_three['items']"
   ]
  },
  {
   "cell_type": "code",
   "execution_count": 53,
   "metadata": {},
   "outputs": [],
   "source": [
    "results_four = sp.artist_albums('74ASZWbe4lXaubB36ztrGX', album_type='album', limit=20, offset=60)\n",
    "albums_four = results_four['items']"
   ]
  },
  {
   "cell_type": "code",
   "execution_count": 54,
   "metadata": {},
   "outputs": [],
   "source": [
    "albums_df = pd.DataFrame(albums)\n",
    "albums_df_two = pd.DataFrame(albums_two)\n",
    "albums_df_three = pd.DataFrame(albums_three)\n",
    "albums_df_four = pd.DataFrame(albums_four)\n"
   ]
  },
  {
   "cell_type": "code",
   "execution_count": 29,
   "metadata": {},
   "outputs": [
    {
     "data": {
      "text/plain": [
       "0    The Bootleg Volume 6: Bob Dylan Live 1964 - Co...\n",
       "1                 Bob Dylan Live At Carnegie Hall 1963\n",
       "2                           The Freewheelin' Bob Dylan\n",
       "3    Bob Dylan In Concert: Brandeis University 1963...\n",
       "4    The Witmark Demos: 1962-1964 (The Bootleg Seri...\n",
       "5                                            Bob Dylan\n",
       "Name: name, dtype: object"
      ]
     },
     "execution_count": 29,
     "metadata": {},
     "output_type": "execute_result"
    }
   ],
   "source": [
    "albums_df_four['name'] "
   ]
  },
  {
   "cell_type": "code",
   "execution_count": 108,
   "metadata": {},
   "outputs": [],
   "source": [
    "all_albums = pd.concat([albums_df, albums_df_two])"
   ]
  },
  {
   "cell_type": "code",
   "execution_count": 15,
   "metadata": {},
   "outputs": [],
   "source": [
    "def safe_spotify_request(call, *args, **kwargs):\n",
    "    max_attempts = 5\n",
    "    attempt = 0\n",
    "    while attempt < max_attempts:\n",
    "        try:\n",
    "            return call(*args, **kwargs)\n",
    "        except SpotifyException as e:\n",
    "            if e.http_status == 429:  \n",
    "                wait_time = int(e.headers.get('Retry-After', 30))  \n",
    "                print(f\"Rate limit exceeded. Retrying after {wait_time} seconds.\")\n",
    "                time.sleep(wait_time)\n",
    "                attempt += 1\n",
    "                wait_time *= 2  \n",
    "            else:\n",
    "\n",
    "                raise\n",
    "\n",
    "    raise Exception(\"Maximum retry attempts reached.\")\n"
   ]
  },
  {
   "cell_type": "code",
   "execution_count": 13,
   "metadata": {},
   "outputs": [],
   "source": [
    "def get_top_features(sp, top_df):\n",
    "    features_list = []\n",
    "    \n",
    "    for id in top_df['id']:\n",
    "        features = safe_spotify_request(sp.audio_features, id)\n",
    "        \n",
    "        if features[0]: \n",
    "            features_df = pd.DataFrame(features)\n",
    "            features_list.append(features_df)\n",
    "    \n",
    "\n",
    "    features_df = pd.concat(features_list, ignore_index=True)\n",
    "    features_df = features_df.drop(columns=['type', 'uri', 'track_href', 'analysis_url', 'duration_ms'])\n",
    "\n",
    "    return features_df\n"
   ]
  },
  {
   "cell_type": "code",
   "execution_count": 19,
   "metadata": {},
   "outputs": [],
   "source": [
    "def get_tracks_df(sp,albums_df):\n",
    "    track_list = []\n",
    "    for album_id in albums_df['id']:\n",
    "        tracks = sp.album_tracks(album_id)\n",
    "        for track in tracks['items']:\n",
    "            track_list.append(track)\n",
    "    track_df = pd.DataFrame(track_list)\n",
    "    features = get_top_features(sp,track_df)\n",
    "    return features, track_df\n",
    "    "
   ]
  },
  {
   "cell_type": "code",
   "execution_count": 47,
   "metadata": {},
   "outputs": [],
   "source": [
    "def get_tracks_df_mod(sp, albums_df):\n",
    "    track_list = []\n",
    "    for index, row in albums_df.iterrows():\n",
    "        album_id = row['id']\n",
    "        album_name = row['name']  \n",
    "        tracks = sp.album_tracks(album_id)\n",
    "        for track in tracks['items']:\n",
    "            track_info = {\n",
    "                'id': track['id'],\n",
    "                'track_name': track['name'],\n",
    "                'track_uri': track['uri'],\n",
    "                'album_name': album_name \n",
    "            }\n",
    "            track_list.append(track_info)\n",
    "    \n",
    "    track_df = pd.DataFrame(track_list)\n",
    "    return track_df\n"
   ]
  },
  {
   "cell_type": "code",
   "execution_count": 48,
   "metadata": {},
   "outputs": [],
   "source": [
    "def merge_track_features(sp, albums_df):\n",
    "    track_df = get_tracks_df_mod(sp, albums_df)\n",
    "    features_df = get_top_features(sp, track_df)\n",
    "    final_df = pd.merge(track_df, features_df, on='id')\n",
    "    \n",
    "    return final_df\n"
   ]
  },
  {
   "cell_type": "code",
   "execution_count": 22,
   "metadata": {},
   "outputs": [],
   "source": [
    "track_df = get_tracks_df_mod(sp, albums_df)"
   ]
  },
  {
   "cell_type": "code",
   "execution_count": 55,
   "metadata": {},
   "outputs": [],
   "source": [
    "bob_features_one = merge_track_features(sp, albums_df)"
   ]
  },
  {
   "cell_type": "code",
   "execution_count": 57,
   "metadata": {},
   "outputs": [],
   "source": [
    "bob_features_two = merge_track_features(sp, albums_df_two)"
   ]
  },
  {
   "cell_type": "code",
   "execution_count": 58,
   "metadata": {},
   "outputs": [
    {
     "name": "stderr",
     "output_type": "stream",
     "text": [
      "Max Retries reached\n"
     ]
    },
    {
     "name": "stdout",
     "output_type": "stream",
     "text": [
      "Rate limit exceeded. Retrying after 30 seconds.\n"
     ]
    },
    {
     "name": "stderr",
     "output_type": "stream",
     "text": [
      "Max Retries reached\n"
     ]
    },
    {
     "name": "stdout",
     "output_type": "stream",
     "text": [
      "Rate limit exceeded. Retrying after 30 seconds.\n"
     ]
    },
    {
     "name": "stderr",
     "output_type": "stream",
     "text": [
      "Max Retries reached\n"
     ]
    },
    {
     "name": "stdout",
     "output_type": "stream",
     "text": [
      "Rate limit exceeded. Retrying after 30 seconds.\n"
     ]
    },
    {
     "name": "stderr",
     "output_type": "stream",
     "text": [
      "Max Retries reached\n"
     ]
    },
    {
     "name": "stdout",
     "output_type": "stream",
     "text": [
      "Rate limit exceeded. Retrying after 30 seconds.\n"
     ]
    },
    {
     "name": "stderr",
     "output_type": "stream",
     "text": [
      "Max Retries reached\n"
     ]
    },
    {
     "name": "stdout",
     "output_type": "stream",
     "text": [
      "Rate limit exceeded. Retrying after 30 seconds.\n"
     ]
    },
    {
     "ename": "Exception",
     "evalue": "Maximum retry attempts reached.",
     "output_type": "error",
     "traceback": [
      "\u001b[1;31m---------------------------------------------------------------------------\u001b[0m",
      "\u001b[1;31mException\u001b[0m                                 Traceback (most recent call last)",
      "Cell \u001b[1;32mIn[58], line 1\u001b[0m\n\u001b[1;32m----> 1\u001b[0m bob_features_three \u001b[38;5;241m=\u001b[39m \u001b[43mmerge_track_features\u001b[49m\u001b[43m(\u001b[49m\u001b[43msp\u001b[49m\u001b[43m,\u001b[49m\u001b[43m \u001b[49m\u001b[43malbums_df_three\u001b[49m\u001b[43m)\u001b[49m\n",
      "Cell \u001b[1;32mIn[48], line 3\u001b[0m, in \u001b[0;36mmerge_track_features\u001b[1;34m(sp, albums_df)\u001b[0m\n\u001b[0;32m      1\u001b[0m \u001b[38;5;28;01mdef\u001b[39;00m \u001b[38;5;21mmerge_track_features\u001b[39m(sp, albums_df):\n\u001b[0;32m      2\u001b[0m     track_df \u001b[38;5;241m=\u001b[39m get_tracks_df_mod(sp, albums_df)\n\u001b[1;32m----> 3\u001b[0m     features_df \u001b[38;5;241m=\u001b[39m \u001b[43mget_top_features\u001b[49m\u001b[43m(\u001b[49m\u001b[43msp\u001b[49m\u001b[43m,\u001b[49m\u001b[43m \u001b[49m\u001b[43mtrack_df\u001b[49m\u001b[43m)\u001b[49m\n\u001b[0;32m      4\u001b[0m     final_df \u001b[38;5;241m=\u001b[39m pd\u001b[38;5;241m.\u001b[39mmerge(track_df, features_df, on\u001b[38;5;241m=\u001b[39m\u001b[38;5;124m'\u001b[39m\u001b[38;5;124mid\u001b[39m\u001b[38;5;124m'\u001b[39m)\n\u001b[0;32m      6\u001b[0m     \u001b[38;5;28;01mreturn\u001b[39;00m final_df\n",
      "Cell \u001b[1;32mIn[13], line 5\u001b[0m, in \u001b[0;36mget_top_features\u001b[1;34m(sp, top_df)\u001b[0m\n\u001b[0;32m      2\u001b[0m features_list \u001b[38;5;241m=\u001b[39m []\n\u001b[0;32m      4\u001b[0m \u001b[38;5;28;01mfor\u001b[39;00m \u001b[38;5;28mid\u001b[39m \u001b[38;5;129;01min\u001b[39;00m top_df[\u001b[38;5;124m'\u001b[39m\u001b[38;5;124mid\u001b[39m\u001b[38;5;124m'\u001b[39m]:\n\u001b[1;32m----> 5\u001b[0m     features \u001b[38;5;241m=\u001b[39m \u001b[43msafe_spotify_request\u001b[49m\u001b[43m(\u001b[49m\u001b[43msp\u001b[49m\u001b[38;5;241;43m.\u001b[39;49m\u001b[43maudio_features\u001b[49m\u001b[43m,\u001b[49m\u001b[43m \u001b[49m\u001b[38;5;28;43mid\u001b[39;49m\u001b[43m)\u001b[49m\n\u001b[0;32m      7\u001b[0m     \u001b[38;5;28;01mif\u001b[39;00m features[\u001b[38;5;241m0\u001b[39m]: \n\u001b[0;32m      8\u001b[0m         features_df \u001b[38;5;241m=\u001b[39m pd\u001b[38;5;241m.\u001b[39mDataFrame(features)\n",
      "Cell \u001b[1;32mIn[15], line 18\u001b[0m, in \u001b[0;36msafe_spotify_request\u001b[1;34m(call, *args, **kwargs)\u001b[0m\n\u001b[0;32m     14\u001b[0m         \u001b[38;5;28;01melse\u001b[39;00m:\n\u001b[0;32m     16\u001b[0m             \u001b[38;5;28;01mraise\u001b[39;00m\n\u001b[1;32m---> 18\u001b[0m \u001b[38;5;28;01mraise\u001b[39;00m \u001b[38;5;167;01mException\u001b[39;00m(\u001b[38;5;124m\"\u001b[39m\u001b[38;5;124mMaximum retry attempts reached.\u001b[39m\u001b[38;5;124m\"\u001b[39m)\n",
      "\u001b[1;31mException\u001b[0m: Maximum retry attempts reached."
     ]
    }
   ],
   "source": [
    "bob_features_three = merge_track_features(sp, albums_df_three)"
   ]
  },
  {
   "cell_type": "code",
   "execution_count": 30,
   "metadata": {},
   "outputs": [],
   "source": [
    "bob_features_four = merge_track_features(sp, albums_df_four)"
   ]
  },
  {
   "cell_type": "code",
   "execution_count": 31,
   "metadata": {},
   "outputs": [],
   "source": [
    "bob_features_concat = pd.concat([bob_features_one, bob_features_two, bob_features_three, bob_features_four])"
   ]
  },
  {
   "cell_type": "code",
   "execution_count": 33,
   "metadata": {},
   "outputs": [],
   "source": [
    "bob_features_concat.to_csv('data/bob_features.csv', index=False)"
   ]
  },
  {
   "cell_type": "code",
   "execution_count": 72,
   "metadata": {},
   "outputs": [],
   "source": [
    "bob_features_concat = pd.read_csv('data/bob_features.csv')"
   ]
  },
  {
   "cell_type": "code",
   "execution_count": 73,
   "metadata": {},
   "outputs": [],
   "source": [
    "bob_scratch = bob_features_concat.copy()"
   ]
  },
  {
   "cell_type": "code",
   "execution_count": 71,
   "metadata": {},
   "outputs": [],
   "source": [
    "cat_col = ['mode', 'key', 'time_signature']\n",
    "con_col = ['danceability', 'energy', 'loudness', 'speechiness', 'acousticness', 'instrumentalness', 'liveness', 'valence', 'tempo']"
   ]
  },
  {
   "cell_type": "code",
   "execution_count": 69,
   "metadata": {},
   "outputs": [],
   "source": [
    "def process_bob(bob_df, cat_cols, con_cols):\n",
    "\n",
    "    processed_data = pd.DataFrame()\n",
    "    \n",
    "    grouped = bob_df.groupby('album_name')\n",
    "    \n",
    "    for col in con_cols:\n",
    "        if col in bob_df.columns:\n",
    "            processed_data[col + '_mean'] = grouped[col].mean()\n",
    "    \n",
    "    for col in cat_cols:\n",
    "        if col in bob_df.columns:\n",
    "            processed_data[col + '_mode'] = grouped[col].apply(lambda x: x.mode()[0] if not x.mode().empty else None)\n",
    "    \n",
    "    processed_data = processed_data.reset_index()\n",
    "    \n",
    "    return processed_data\n"
   ]
  },
  {
   "cell_type": "code",
   "execution_count": 74,
   "metadata": {},
   "outputs": [],
   "source": [
    "bob_album_ag = process_bob(bob_scratch, cat_col, con_col)"
   ]
  },
  {
   "cell_type": "code",
   "execution_count": 82,
   "metadata": {},
   "outputs": [],
   "source": [
    "bob_album_ag.to_csv('data/bob_album_ag.csv', index=False)"
   ]
  },
  {
   "cell_type": "code",
   "execution_count": 10,
   "metadata": {},
   "outputs": [],
   "source": [
    "top = sp.current_user_top_tracks()"
   ]
  },
  {
   "cell_type": "code",
   "execution_count": 11,
   "metadata": {},
   "outputs": [],
   "source": [
    "top_df = pd.DataFrame(top['items'])"
   ]
  },
  {
   "cell_type": "code",
   "execution_count": 27,
   "metadata": {},
   "outputs": [],
   "source": [
    "features_df = pd.DataFrame(features)"
   ]
  },
  {
   "cell_type": "code",
   "execution_count": 16,
   "metadata": {},
   "outputs": [],
   "source": [
    "top_features = get_top_features(sp, top_df)"
   ]
  },
  {
   "cell_type": "code",
   "execution_count": 17,
   "metadata": {},
   "outputs": [],
   "source": [
    "manual_catagorical_cols = ['mode', 'key', 'time_signature']"
   ]
  },
  {
   "cell_type": "code",
   "execution_count": 18,
   "metadata": {},
   "outputs": [],
   "source": [
    "def process_dataframe(df, manual_categorical_cols=None, unique_value_threshold=10):\n",
    "    processed_data = {}\n",
    "    \n",
    "    if manual_categorical_cols is None:\n",
    "        manual_categorical_cols = []\n",
    "    \n",
    "    for col in df.columns:\n",
    "        if df[col].nunique() <= unique_value_threshold or col in manual_categorical_cols:\n",
    "\n",
    "            processed_data[col + '_mode'] = df[col].mode()[0]\n",
    "        else:\n",
    "\n",
    "            processed_data[col + '_mean'] = df[col].mean()\n",
    "    \n",
    "    return processed_data\n"
   ]
  },
  {
   "cell_type": "code",
   "execution_count": 19,
   "metadata": {},
   "outputs": [],
   "source": [
    "#drop id col from top_features\n",
    "top_features = top_features.drop(columns=['id'])"
   ]
  },
  {
   "cell_type": "code",
   "execution_count": 59,
   "metadata": {},
   "outputs": [],
   "source": [
    "top_features.to_csv('data/example_user_features.csv', index=False)"
   ]
  },
  {
   "cell_type": "code",
   "execution_count": 20,
   "metadata": {},
   "outputs": [],
   "source": [
    "averages = process_dataframe(top_features, manual_catagorical_cols)"
   ]
  },
  {
   "cell_type": "markdown",
   "metadata": {},
   "source": [
    "Work on recommendatiosn "
   ]
  },
  {
   "cell_type": "code",
   "execution_count": 48,
   "metadata": {},
   "outputs": [
    {
     "data": {
      "text/plain": [
       "0     Another Self Portrait (1969-1971): The Bootleg...\n",
       "1                             Another Side Of Bob Dylan\n",
       "2                               Before The Flood (Live)\n",
       "3                                      Blonde On Blonde\n",
       "4                                   Blood On The Tracks\n",
       "                            ...                        \n",
       "61    Travelin' Thru, 1967 - 1969: The Bootleg Serie...\n",
       "62                                           Triplicate\n",
       "63    Trouble No More: The Bootleg Series, Vol. 13 /...\n",
       "64                                    Under The Red Sky\n",
       "65                                     World Gone Wrong\n",
       "Name: album_name, Length: 66, dtype: object"
      ]
     },
     "execution_count": 48,
     "metadata": {},
     "output_type": "execute_result"
    }
   ],
   "source": [
    "bob_album_ag['album_name']"
   ]
  },
  {
   "cell_type": "code",
   "execution_count": 49,
   "metadata": {},
   "outputs": [
    {
     "name": "stdout",
     "output_type": "stream",
     "text": [
      "The closest album to the user's preferences is: The Basement Tapes Complete: The Bootleg Series, Vol. 11 (Deluxe Edition)\n"
     ]
    }
   ],
   "source": [
    "max_similarity = -1  \n",
    "closest_album = None\n",
    "\n",
    "feature_columns = ['danceability_mean', 'energy_mean', 'loudness_mean','speechiness_mean',\n",
    "                    'acousticness_mean', 'instrumentalness_mean','liveness_mean', 'valence_mean',\n",
    "                      'tempo_mean', 'mode_mode', 'key_mode','time_signature_mode'] \n",
    "\n",
    "averages_features = [averages[col] for col in feature_columns]\n",
    "averages_flat = np.array(averages_features).flatten()\n",
    "\n",
    "for index, row in bob_album_ag.iterrows():\n",
    "    album_features = row[feature_columns].tolist()  \n",
    "    similarity = 1 - distance.cosine(averages_flat, album_features)  \n",
    "    if similarity > max_similarity:\n",
    "        max_similarity = similarity\n",
    "        closest_album = row['album_name']  \n",
    "\n",
    "print(f\"The closest album to the user's preferences is: {closest_album}\")"
   ]
  },
  {
   "cell_type": "code",
   "execution_count": null,
   "metadata": {},
   "outputs": [],
   "source": [
    "def find_closest_album(user_features,album_features, feature_columns):\n",
    "    max_similarity = -1  \n",
    "    closest_album = None\n",
    "\n",
    "    for index, row in album_features.iterrows():\n",
    "        album_features = row[feature_columns].tolist()  \n",
    "        similarity = 1 - distance.cosine(user_features, album_features)  \n",
    "        if similarity > max_similarity:\n",
    "            max_similarity = similarity\n",
    "            closest_album = row['album_name']  \n",
    "\n",
    "    print(f\"The closest album to the user's preferences is: {closest_album}\")"
   ]
  },
  {
   "cell_type": "markdown",
   "metadata": {},
   "source": [
    "Let's make a playlist"
   ]
  },
  {
   "cell_type": "code",
   "execution_count": 22,
   "metadata": {},
   "outputs": [],
   "source": [
    "bob_scratch = pd.read_csv('data/bob_features.csv')"
   ]
  },
  {
   "cell_type": "code",
   "execution_count": 23,
   "metadata": {},
   "outputs": [
    {
     "data": {
      "text/plain": [
       "Index(['id', 'track_name', 'album_name', 'danceability', 'energy', 'key',\n",
       "       'loudness', 'mode', 'speechiness', 'acousticness', 'instrumentalness',\n",
       "       'liveness', 'valence', 'tempo', 'time_signature'],\n",
       "      dtype='object')"
      ]
     },
     "execution_count": 23,
     "metadata": {},
     "output_type": "execute_result"
    }
   ],
   "source": [
    "bob_scratch.columns"
   ]
  },
  {
   "cell_type": "code",
   "execution_count": 24,
   "metadata": {},
   "outputs": [],
   "source": [
    "# drop id, track_name, and album_name from bob_scratch\n",
    "X = bob_scratch.drop(columns=['id', 'track_name', 'album_name'])"
   ]
  },
  {
   "cell_type": "code",
   "execution_count": 25,
   "metadata": {},
   "outputs": [
    {
     "data": {
      "text/html": [
       "<style>#sk-container-id-1 {\n",
       "  /* Definition of color scheme common for light and dark mode */\n",
       "  --sklearn-color-text: black;\n",
       "  --sklearn-color-line: gray;\n",
       "  /* Definition of color scheme for unfitted estimators */\n",
       "  --sklearn-color-unfitted-level-0: #fff5e6;\n",
       "  --sklearn-color-unfitted-level-1: #f6e4d2;\n",
       "  --sklearn-color-unfitted-level-2: #ffe0b3;\n",
       "  --sklearn-color-unfitted-level-3: chocolate;\n",
       "  /* Definition of color scheme for fitted estimators */\n",
       "  --sklearn-color-fitted-level-0: #f0f8ff;\n",
       "  --sklearn-color-fitted-level-1: #d4ebff;\n",
       "  --sklearn-color-fitted-level-2: #b3dbfd;\n",
       "  --sklearn-color-fitted-level-3: cornflowerblue;\n",
       "\n",
       "  /* Specific color for light theme */\n",
       "  --sklearn-color-text-on-default-background: var(--sg-text-color, var(--theme-code-foreground, var(--jp-content-font-color1, black)));\n",
       "  --sklearn-color-background: var(--sg-background-color, var(--theme-background, var(--jp-layout-color0, white)));\n",
       "  --sklearn-color-border-box: var(--sg-text-color, var(--theme-code-foreground, var(--jp-content-font-color1, black)));\n",
       "  --sklearn-color-icon: #696969;\n",
       "\n",
       "  @media (prefers-color-scheme: dark) {\n",
       "    /* Redefinition of color scheme for dark theme */\n",
       "    --sklearn-color-text-on-default-background: var(--sg-text-color, var(--theme-code-foreground, var(--jp-content-font-color1, white)));\n",
       "    --sklearn-color-background: var(--sg-background-color, var(--theme-background, var(--jp-layout-color0, #111)));\n",
       "    --sklearn-color-border-box: var(--sg-text-color, var(--theme-code-foreground, var(--jp-content-font-color1, white)));\n",
       "    --sklearn-color-icon: #878787;\n",
       "  }\n",
       "}\n",
       "\n",
       "#sk-container-id-1 {\n",
       "  color: var(--sklearn-color-text);\n",
       "}\n",
       "\n",
       "#sk-container-id-1 pre {\n",
       "  padding: 0;\n",
       "}\n",
       "\n",
       "#sk-container-id-1 input.sk-hidden--visually {\n",
       "  border: 0;\n",
       "  clip: rect(1px 1px 1px 1px);\n",
       "  clip: rect(1px, 1px, 1px, 1px);\n",
       "  height: 1px;\n",
       "  margin: -1px;\n",
       "  overflow: hidden;\n",
       "  padding: 0;\n",
       "  position: absolute;\n",
       "  width: 1px;\n",
       "}\n",
       "\n",
       "#sk-container-id-1 div.sk-dashed-wrapped {\n",
       "  border: 1px dashed var(--sklearn-color-line);\n",
       "  margin: 0 0.4em 0.5em 0.4em;\n",
       "  box-sizing: border-box;\n",
       "  padding-bottom: 0.4em;\n",
       "  background-color: var(--sklearn-color-background);\n",
       "}\n",
       "\n",
       "#sk-container-id-1 div.sk-container {\n",
       "  /* jupyter's `normalize.less` sets `[hidden] { display: none; }`\n",
       "     but bootstrap.min.css set `[hidden] { display: none !important; }`\n",
       "     so we also need the `!important` here to be able to override the\n",
       "     default hidden behavior on the sphinx rendered scikit-learn.org.\n",
       "     See: https://github.com/scikit-learn/scikit-learn/issues/21755 */\n",
       "  display: inline-block !important;\n",
       "  position: relative;\n",
       "}\n",
       "\n",
       "#sk-container-id-1 div.sk-text-repr-fallback {\n",
       "  display: none;\n",
       "}\n",
       "\n",
       "div.sk-parallel-item,\n",
       "div.sk-serial,\n",
       "div.sk-item {\n",
       "  /* draw centered vertical line to link estimators */\n",
       "  background-image: linear-gradient(var(--sklearn-color-text-on-default-background), var(--sklearn-color-text-on-default-background));\n",
       "  background-size: 2px 100%;\n",
       "  background-repeat: no-repeat;\n",
       "  background-position: center center;\n",
       "}\n",
       "\n",
       "/* Parallel-specific style estimator block */\n",
       "\n",
       "#sk-container-id-1 div.sk-parallel-item::after {\n",
       "  content: \"\";\n",
       "  width: 100%;\n",
       "  border-bottom: 2px solid var(--sklearn-color-text-on-default-background);\n",
       "  flex-grow: 1;\n",
       "}\n",
       "\n",
       "#sk-container-id-1 div.sk-parallel {\n",
       "  display: flex;\n",
       "  align-items: stretch;\n",
       "  justify-content: center;\n",
       "  background-color: var(--sklearn-color-background);\n",
       "  position: relative;\n",
       "}\n",
       "\n",
       "#sk-container-id-1 div.sk-parallel-item {\n",
       "  display: flex;\n",
       "  flex-direction: column;\n",
       "}\n",
       "\n",
       "#sk-container-id-1 div.sk-parallel-item:first-child::after {\n",
       "  align-self: flex-end;\n",
       "  width: 50%;\n",
       "}\n",
       "\n",
       "#sk-container-id-1 div.sk-parallel-item:last-child::after {\n",
       "  align-self: flex-start;\n",
       "  width: 50%;\n",
       "}\n",
       "\n",
       "#sk-container-id-1 div.sk-parallel-item:only-child::after {\n",
       "  width: 0;\n",
       "}\n",
       "\n",
       "/* Serial-specific style estimator block */\n",
       "\n",
       "#sk-container-id-1 div.sk-serial {\n",
       "  display: flex;\n",
       "  flex-direction: column;\n",
       "  align-items: center;\n",
       "  background-color: var(--sklearn-color-background);\n",
       "  padding-right: 1em;\n",
       "  padding-left: 1em;\n",
       "}\n",
       "\n",
       "\n",
       "/* Toggleable style: style used for estimator/Pipeline/ColumnTransformer box that is\n",
       "clickable and can be expanded/collapsed.\n",
       "- Pipeline and ColumnTransformer use this feature and define the default style\n",
       "- Estimators will overwrite some part of the style using the `sk-estimator` class\n",
       "*/\n",
       "\n",
       "/* Pipeline and ColumnTransformer style (default) */\n",
       "\n",
       "#sk-container-id-1 div.sk-toggleable {\n",
       "  /* Default theme specific background. It is overwritten whether we have a\n",
       "  specific estimator or a Pipeline/ColumnTransformer */\n",
       "  background-color: var(--sklearn-color-background);\n",
       "}\n",
       "\n",
       "/* Toggleable label */\n",
       "#sk-container-id-1 label.sk-toggleable__label {\n",
       "  cursor: pointer;\n",
       "  display: block;\n",
       "  width: 100%;\n",
       "  margin-bottom: 0;\n",
       "  padding: 0.5em;\n",
       "  box-sizing: border-box;\n",
       "  text-align: center;\n",
       "}\n",
       "\n",
       "#sk-container-id-1 label.sk-toggleable__label-arrow:before {\n",
       "  /* Arrow on the left of the label */\n",
       "  content: \"▸\";\n",
       "  float: left;\n",
       "  margin-right: 0.25em;\n",
       "  color: var(--sklearn-color-icon);\n",
       "}\n",
       "\n",
       "#sk-container-id-1 label.sk-toggleable__label-arrow:hover:before {\n",
       "  color: var(--sklearn-color-text);\n",
       "}\n",
       "\n",
       "/* Toggleable content - dropdown */\n",
       "\n",
       "#sk-container-id-1 div.sk-toggleable__content {\n",
       "  max-height: 0;\n",
       "  max-width: 0;\n",
       "  overflow: hidden;\n",
       "  text-align: left;\n",
       "  /* unfitted */\n",
       "  background-color: var(--sklearn-color-unfitted-level-0);\n",
       "}\n",
       "\n",
       "#sk-container-id-1 div.sk-toggleable__content.fitted {\n",
       "  /* fitted */\n",
       "  background-color: var(--sklearn-color-fitted-level-0);\n",
       "}\n",
       "\n",
       "#sk-container-id-1 div.sk-toggleable__content pre {\n",
       "  margin: 0.2em;\n",
       "  border-radius: 0.25em;\n",
       "  color: var(--sklearn-color-text);\n",
       "  /* unfitted */\n",
       "  background-color: var(--sklearn-color-unfitted-level-0);\n",
       "}\n",
       "\n",
       "#sk-container-id-1 div.sk-toggleable__content.fitted pre {\n",
       "  /* unfitted */\n",
       "  background-color: var(--sklearn-color-fitted-level-0);\n",
       "}\n",
       "\n",
       "#sk-container-id-1 input.sk-toggleable__control:checked~div.sk-toggleable__content {\n",
       "  /* Expand drop-down */\n",
       "  max-height: 200px;\n",
       "  max-width: 100%;\n",
       "  overflow: auto;\n",
       "}\n",
       "\n",
       "#sk-container-id-1 input.sk-toggleable__control:checked~label.sk-toggleable__label-arrow:before {\n",
       "  content: \"▾\";\n",
       "}\n",
       "\n",
       "/* Pipeline/ColumnTransformer-specific style */\n",
       "\n",
       "#sk-container-id-1 div.sk-label input.sk-toggleable__control:checked~label.sk-toggleable__label {\n",
       "  color: var(--sklearn-color-text);\n",
       "  background-color: var(--sklearn-color-unfitted-level-2);\n",
       "}\n",
       "\n",
       "#sk-container-id-1 div.sk-label.fitted input.sk-toggleable__control:checked~label.sk-toggleable__label {\n",
       "  background-color: var(--sklearn-color-fitted-level-2);\n",
       "}\n",
       "\n",
       "/* Estimator-specific style */\n",
       "\n",
       "/* Colorize estimator box */\n",
       "#sk-container-id-1 div.sk-estimator input.sk-toggleable__control:checked~label.sk-toggleable__label {\n",
       "  /* unfitted */\n",
       "  background-color: var(--sklearn-color-unfitted-level-2);\n",
       "}\n",
       "\n",
       "#sk-container-id-1 div.sk-estimator.fitted input.sk-toggleable__control:checked~label.sk-toggleable__label {\n",
       "  /* fitted */\n",
       "  background-color: var(--sklearn-color-fitted-level-2);\n",
       "}\n",
       "\n",
       "#sk-container-id-1 div.sk-label label.sk-toggleable__label,\n",
       "#sk-container-id-1 div.sk-label label {\n",
       "  /* The background is the default theme color */\n",
       "  color: var(--sklearn-color-text-on-default-background);\n",
       "}\n",
       "\n",
       "/* On hover, darken the color of the background */\n",
       "#sk-container-id-1 div.sk-label:hover label.sk-toggleable__label {\n",
       "  color: var(--sklearn-color-text);\n",
       "  background-color: var(--sklearn-color-unfitted-level-2);\n",
       "}\n",
       "\n",
       "/* Label box, darken color on hover, fitted */\n",
       "#sk-container-id-1 div.sk-label.fitted:hover label.sk-toggleable__label.fitted {\n",
       "  color: var(--sklearn-color-text);\n",
       "  background-color: var(--sklearn-color-fitted-level-2);\n",
       "}\n",
       "\n",
       "/* Estimator label */\n",
       "\n",
       "#sk-container-id-1 div.sk-label label {\n",
       "  font-family: monospace;\n",
       "  font-weight: bold;\n",
       "  display: inline-block;\n",
       "  line-height: 1.2em;\n",
       "}\n",
       "\n",
       "#sk-container-id-1 div.sk-label-container {\n",
       "  text-align: center;\n",
       "}\n",
       "\n",
       "/* Estimator-specific */\n",
       "#sk-container-id-1 div.sk-estimator {\n",
       "  font-family: monospace;\n",
       "  border: 1px dotted var(--sklearn-color-border-box);\n",
       "  border-radius: 0.25em;\n",
       "  box-sizing: border-box;\n",
       "  margin-bottom: 0.5em;\n",
       "  /* unfitted */\n",
       "  background-color: var(--sklearn-color-unfitted-level-0);\n",
       "}\n",
       "\n",
       "#sk-container-id-1 div.sk-estimator.fitted {\n",
       "  /* fitted */\n",
       "  background-color: var(--sklearn-color-fitted-level-0);\n",
       "}\n",
       "\n",
       "/* on hover */\n",
       "#sk-container-id-1 div.sk-estimator:hover {\n",
       "  /* unfitted */\n",
       "  background-color: var(--sklearn-color-unfitted-level-2);\n",
       "}\n",
       "\n",
       "#sk-container-id-1 div.sk-estimator.fitted:hover {\n",
       "  /* fitted */\n",
       "  background-color: var(--sklearn-color-fitted-level-2);\n",
       "}\n",
       "\n",
       "/* Specification for estimator info (e.g. \"i\" and \"?\") */\n",
       "\n",
       "/* Common style for \"i\" and \"?\" */\n",
       "\n",
       ".sk-estimator-doc-link,\n",
       "a:link.sk-estimator-doc-link,\n",
       "a:visited.sk-estimator-doc-link {\n",
       "  float: right;\n",
       "  font-size: smaller;\n",
       "  line-height: 1em;\n",
       "  font-family: monospace;\n",
       "  background-color: var(--sklearn-color-background);\n",
       "  border-radius: 1em;\n",
       "  height: 1em;\n",
       "  width: 1em;\n",
       "  text-decoration: none !important;\n",
       "  margin-left: 1ex;\n",
       "  /* unfitted */\n",
       "  border: var(--sklearn-color-unfitted-level-1) 1pt solid;\n",
       "  color: var(--sklearn-color-unfitted-level-1);\n",
       "}\n",
       "\n",
       ".sk-estimator-doc-link.fitted,\n",
       "a:link.sk-estimator-doc-link.fitted,\n",
       "a:visited.sk-estimator-doc-link.fitted {\n",
       "  /* fitted */\n",
       "  border: var(--sklearn-color-fitted-level-1) 1pt solid;\n",
       "  color: var(--sklearn-color-fitted-level-1);\n",
       "}\n",
       "\n",
       "/* On hover */\n",
       "div.sk-estimator:hover .sk-estimator-doc-link:hover,\n",
       ".sk-estimator-doc-link:hover,\n",
       "div.sk-label-container:hover .sk-estimator-doc-link:hover,\n",
       ".sk-estimator-doc-link:hover {\n",
       "  /* unfitted */\n",
       "  background-color: var(--sklearn-color-unfitted-level-3);\n",
       "  color: var(--sklearn-color-background);\n",
       "  text-decoration: none;\n",
       "}\n",
       "\n",
       "div.sk-estimator.fitted:hover .sk-estimator-doc-link.fitted:hover,\n",
       ".sk-estimator-doc-link.fitted:hover,\n",
       "div.sk-label-container:hover .sk-estimator-doc-link.fitted:hover,\n",
       ".sk-estimator-doc-link.fitted:hover {\n",
       "  /* fitted */\n",
       "  background-color: var(--sklearn-color-fitted-level-3);\n",
       "  color: var(--sklearn-color-background);\n",
       "  text-decoration: none;\n",
       "}\n",
       "\n",
       "/* Span, style for the box shown on hovering the info icon */\n",
       ".sk-estimator-doc-link span {\n",
       "  display: none;\n",
       "  z-index: 9999;\n",
       "  position: relative;\n",
       "  font-weight: normal;\n",
       "  right: .2ex;\n",
       "  padding: .5ex;\n",
       "  margin: .5ex;\n",
       "  width: min-content;\n",
       "  min-width: 20ex;\n",
       "  max-width: 50ex;\n",
       "  color: var(--sklearn-color-text);\n",
       "  box-shadow: 2pt 2pt 4pt #999;\n",
       "  /* unfitted */\n",
       "  background: var(--sklearn-color-unfitted-level-0);\n",
       "  border: .5pt solid var(--sklearn-color-unfitted-level-3);\n",
       "}\n",
       "\n",
       ".sk-estimator-doc-link.fitted span {\n",
       "  /* fitted */\n",
       "  background: var(--sklearn-color-fitted-level-0);\n",
       "  border: var(--sklearn-color-fitted-level-3);\n",
       "}\n",
       "\n",
       ".sk-estimator-doc-link:hover span {\n",
       "  display: block;\n",
       "}\n",
       "\n",
       "/* \"?\"-specific style due to the `<a>` HTML tag */\n",
       "\n",
       "#sk-container-id-1 a.estimator_doc_link {\n",
       "  float: right;\n",
       "  font-size: 1rem;\n",
       "  line-height: 1em;\n",
       "  font-family: monospace;\n",
       "  background-color: var(--sklearn-color-background);\n",
       "  border-radius: 1rem;\n",
       "  height: 1rem;\n",
       "  width: 1rem;\n",
       "  text-decoration: none;\n",
       "  /* unfitted */\n",
       "  color: var(--sklearn-color-unfitted-level-1);\n",
       "  border: var(--sklearn-color-unfitted-level-1) 1pt solid;\n",
       "}\n",
       "\n",
       "#sk-container-id-1 a.estimator_doc_link.fitted {\n",
       "  /* fitted */\n",
       "  border: var(--sklearn-color-fitted-level-1) 1pt solid;\n",
       "  color: var(--sklearn-color-fitted-level-1);\n",
       "}\n",
       "\n",
       "/* On hover */\n",
       "#sk-container-id-1 a.estimator_doc_link:hover {\n",
       "  /* unfitted */\n",
       "  background-color: var(--sklearn-color-unfitted-level-3);\n",
       "  color: var(--sklearn-color-background);\n",
       "  text-decoration: none;\n",
       "}\n",
       "\n",
       "#sk-container-id-1 a.estimator_doc_link.fitted:hover {\n",
       "  /* fitted */\n",
       "  background-color: var(--sklearn-color-fitted-level-3);\n",
       "}\n",
       "</style><div id=\"sk-container-id-1\" class=\"sk-top-container\"><div class=\"sk-text-repr-fallback\"><pre>NearestNeighbors(n_neighbors=30)</pre><b>In a Jupyter environment, please rerun this cell to show the HTML representation or trust the notebook. <br />On GitHub, the HTML representation is unable to render, please try loading this page with nbviewer.org.</b></div><div class=\"sk-container\" hidden><div class=\"sk-item\"><div class=\"sk-estimator fitted sk-toggleable\"><input class=\"sk-toggleable__control sk-hidden--visually\" id=\"sk-estimator-id-1\" type=\"checkbox\" checked><label for=\"sk-estimator-id-1\" class=\"sk-toggleable__label fitted sk-toggleable__label-arrow fitted\">&nbsp;&nbsp;NearestNeighbors<a class=\"sk-estimator-doc-link fitted\" rel=\"noreferrer\" target=\"_blank\" href=\"https://scikit-learn.org/1.4/modules/generated/sklearn.neighbors.NearestNeighbors.html\">?<span>Documentation for NearestNeighbors</span></a><span class=\"sk-estimator-doc-link fitted\">i<span>Fitted</span></span></label><div class=\"sk-toggleable__content fitted\"><pre>NearestNeighbors(n_neighbors=30)</pre></div> </div></div></div></div>"
      ],
      "text/plain": [
       "NearestNeighbors(n_neighbors=30)"
      ]
     },
     "execution_count": 25,
     "metadata": {},
     "output_type": "execute_result"
    }
   ],
   "source": [
    "knn = NearestNeighbors(n_neighbors=30)  \n",
    "knn.fit(X)"
   ]
  },
  {
   "cell_type": "code",
   "execution_count": 26,
   "metadata": {},
   "outputs": [
    {
     "data": {
      "text/plain": [
       "{'danceability_mean': 0.5064,\n",
       " 'energy_mean': 0.43419850000000004,\n",
       " 'key_mode': 3,\n",
       " 'loudness_mean': -12.637500000000001,\n",
       " 'mode_mode': 1,\n",
       " 'speechiness_mean': 0.037834999999999994,\n",
       " 'acousticness_mean': 0.52983,\n",
       " 'instrumentalness_mean': 0.1080965205,\n",
       " 'liveness_mean': 0.21473500000000004,\n",
       " 'valence_mean': 0.48275499999999993,\n",
       " 'tempo_mean': 119.59775000000002,\n",
       " 'time_signature_mode': 4}"
      ]
     },
     "execution_count": 26,
     "metadata": {},
     "output_type": "execute_result"
    }
   ],
   "source": [
    "averages"
   ]
  },
  {
   "cell_type": "code",
   "execution_count": 27,
   "metadata": {},
   "outputs": [],
   "source": [
    "feature_columns = [\n",
    "    'danceability_mean',\n",
    "    'energy_mean',\n",
    "    'key_mode',\n",
    "    'loudness_mean',\n",
    "    'mode_mode',\n",
    "    'speechiness_mean',\n",
    "    'acousticness_mean',\n",
    "    'instrumentalness_mean',\n",
    "    'liveness_mean',\n",
    "    'valence_mean',\n",
    "    'tempo_mean',\n",
    "    'time_signature_mode'\n",
    "]\n"
   ]
  },
  {
   "cell_type": "code",
   "execution_count": 28,
   "metadata": {},
   "outputs": [],
   "source": [
    "user_profile = np.array([averages[feature] for feature in feature_columns]).reshape(1, -1)"
   ]
  },
  {
   "cell_type": "code",
   "execution_count": 29,
   "metadata": {},
   "outputs": [
    {
     "name": "stderr",
     "output_type": "stream",
     "text": [
      "c:\\Users\\samtg\\github\\bob\\.venv\\Lib\\site-packages\\sklearn\\base.py:493: UserWarning: X does not have valid feature names, but NearestNeighbors was fitted with feature names\n",
      "  warnings.warn(\n"
     ]
    }
   ],
   "source": [
    "distances, indices = knn.kneighbors(user_profile)"
   ]
  },
  {
   "cell_type": "code",
   "execution_count": null,
   "metadata": {},
   "outputs": [],
   "source": [
    "def get_recommended_songs(songs,user_info):\n",
    "    X = songs.drop(columns=['id', 'track_name', 'album_name'])\n",
    "    knn = NearestNeighbors(n_neighbors=30)\n",
    "    knn.fit(X)\n",
    "    user_profile = np.array([user_info[feature] for feature in feature_columns]).reshape(1, -1)\n",
    "    distances, indices = knn.kneighbors(user_profile)\n",
    "    recommended_songs_df = songs.iloc[indices[0]][['track_name', 'id']]\n",
    "    return recommended_songs_df\n"
   ]
  },
  {
   "cell_type": "code",
   "execution_count": 30,
   "metadata": {},
   "outputs": [
    {
     "name": "stdout",
     "output_type": "stream",
     "text": [
      "Recommended Songs:\n",
      "Honey, Just Allow Me One More Chance\n",
      "Desolation Row - Live at Royal Albert Hall, London, UK - May 26, 1966\n",
      "Jesus Is the One - Live July 17, 1981\n",
      "Jack-a-Roe\n",
      "Song for Canada\n",
      "There's a Flaw in My Flue\n",
      "Rambling, Gambling Willie - Witmark Demo - 1962\n",
      "You Don't Have to Do That - Take 1, Solo Acoustic\n",
      "What Can I Do for You? - Live at Golden Hall, San Diego, CA - November 27, 1979\n",
      "Going, Going, Gone\n",
      "I Dreamed I Saw St. Augustine - Live at Montreal Forum, Montreal, Quebec - December 1975\n",
      "Long Ago, Far Away - Witmark Demo - 1962\n",
      "With God on Our Side - Live at Carnegie Hall, New York, NY - October 1963\n",
      "The Girl On the Greenbriar Shore - Live at Cote d'Opale, Dunkerque, France - June 1992\n",
      "I Threw It All Away - Live at Nippon Budokan Hall, Tokyo, Japan - March 1, 1978\n",
      "I Threw It All Away - Live with The Band, Isle Of Wight - Remixed and Remastered 2013\n",
      "It's All Over Now, Baby Blue\n",
      "Big River - Take 2\n",
      "I Am a Lonesome Hobo\n",
      "Sitting On a Barbed Wire Fence - Take 2\n",
      "Annie's Going to Sing Her Song - Unreleased, Self Portrait\n",
      "You're Gonna Quit Me\n",
      "Most Likely You Go Your Way (And I'll Go Mine)\n",
      "With God on Our Side\n",
      "Stack a Lee\n",
      "Rambling, Gambling Willie - Studio Outtake - 1962\n",
      "Mississippi - Outtake from 'Time Out Of Mind' Sessions, Version 2\n",
      "It's Alright, Ma (I'm Only Bleeding)\n",
      "Seeing the Real You at Last - Empire Burlesque Alternate Take\n",
      "Sitting On a Barbed Wire Fence - Studio Outtake - 1965\n"
     ]
    }
   ],
   "source": [
    "recommended_songs_df = bob_scratch.iloc[indices[0]][['track_name', 'id']]\n",
    "\n",
    "print(\"Recommended Songs:\")\n",
    "for song in recommended_songs_df['track_name']:\n",
    "    print(song)"
   ]
  },
  {
   "cell_type": "code",
   "execution_count": 31,
   "metadata": {},
   "outputs": [
    {
     "data": {
      "text/html": [
       "<div>\n",
       "<style scoped>\n",
       "    .dataframe tbody tr th:only-of-type {\n",
       "        vertical-align: middle;\n",
       "    }\n",
       "\n",
       "    .dataframe tbody tr th {\n",
       "        vertical-align: top;\n",
       "    }\n",
       "\n",
       "    .dataframe thead th {\n",
       "        text-align: right;\n",
       "    }\n",
       "</style>\n",
       "<table border=\"1\" class=\"dataframe\">\n",
       "  <thead>\n",
       "    <tr style=\"text-align: right;\">\n",
       "      <th></th>\n",
       "      <th>track_name</th>\n",
       "      <th>id</th>\n",
       "    </tr>\n",
       "  </thead>\n",
       "  <tbody>\n",
       "    <tr>\n",
       "      <th>1099</th>\n",
       "      <td>Honey, Just Allow Me One More Chance</td>\n",
       "      <td>71XTdtW3bvmIrotG8yYVMS</td>\n",
       "    </tr>\n",
       "    <tr>\n",
       "      <th>947</th>\n",
       "      <td>Desolation Row - Live at Royal Albert Hall, Lo...</td>\n",
       "      <td>4hIOKB9UN6Cj4lOkn1CAxC</td>\n",
       "    </tr>\n",
       "    <tr>\n",
       "      <th>249</th>\n",
       "      <td>Jesus Is the One - Live July 17, 1981</td>\n",
       "      <td>2CwVWO0y729HN867N0QiwS</td>\n",
       "    </tr>\n",
       "    <tr>\n",
       "      <th>485</th>\n",
       "      <td>Jack-a-Roe</td>\n",
       "      <td>43A4KdBB6wlzRqaISolzqV</td>\n",
       "    </tr>\n",
       "    <tr>\n",
       "      <th>891</th>\n",
       "      <td>Song for Canada</td>\n",
       "      <td>07CPKnNDAOWjHPgxVkhrUE</td>\n",
       "    </tr>\n",
       "    <tr>\n",
       "      <th>276</th>\n",
       "      <td>There's a Flaw in My Flue</td>\n",
       "      <td>6OwmxcxlraKhUXofqQwgNK</td>\n",
       "    </tr>\n",
       "    <tr>\n",
       "      <th>1112</th>\n",
       "      <td>Rambling, Gambling Willie - Witmark Demo - 1962</td>\n",
       "      <td>2TMJrLYSGo9ys1rD7sM9Bc</td>\n",
       "    </tr>\n",
       "    <tr>\n",
       "      <th>1014</th>\n",
       "      <td>You Don't Have to Do That - Take 1, Solo Acoustic</td>\n",
       "      <td>5HgpySxSUjT7wP326hXcXP</td>\n",
       "    </tr>\n",
       "    <tr>\n",
       "      <th>218</th>\n",
       "      <td>What Can I Do for You? - Live at Golden Hall, ...</td>\n",
       "      <td>1jzDM6sfisy1hVuiwB4Vr2</td>\n",
       "    </tr>\n",
       "    <tr>\n",
       "      <th>778</th>\n",
       "      <td>Going, Going, Gone</td>\n",
       "      <td>5jZLCVKppwm7dGxvb68fTW</td>\n",
       "    </tr>\n",
       "    <tr>\n",
       "      <th>193</th>\n",
       "      <td>I Dreamed I Saw St. Augustine - Live at Montre...</td>\n",
       "      <td>3xHwiV7qeFejcYyKHF92uT</td>\n",
       "    </tr>\n",
       "    <tr>\n",
       "      <th>1117</th>\n",
       "      <td>Long Ago, Far Away - Witmark Demo - 1962</td>\n",
       "      <td>7eXUTrl2yc5OoyPAzSIpy7</td>\n",
       "    </tr>\n",
       "    <tr>\n",
       "      <th>1087</th>\n",
       "      <td>With God on Our Side - Live at Carnegie Hall, ...</td>\n",
       "      <td>5sCFO2TNqUdNn6PbTcAI3L</td>\n",
       "    </tr>\n",
       "    <tr>\n",
       "      <th>416</th>\n",
       "      <td>The Girl On the Greenbriar Shore - Live at Cot...</td>\n",
       "      <td>1RB3gAIO5did2ZWHNVd4oB</td>\n",
       "    </tr>\n",
       "    <tr>\n",
       "      <th>32</th>\n",
       "      <td>I Threw It All Away - Live at Nippon Budokan H...</td>\n",
       "      <td>2Tj7vaqet4a8toDLIqHpN4</td>\n",
       "    </tr>\n",
       "    <tr>\n",
       "      <th>346</th>\n",
       "      <td>I Threw It All Away - Live with The Band, Isle...</td>\n",
       "      <td>3ijjFKFtdaTCpIPuP6s7oA</td>\n",
       "    </tr>\n",
       "    <tr>\n",
       "      <th>991</th>\n",
       "      <td>It's All Over Now, Baby Blue</td>\n",
       "      <td>4EgKcG7aswxVfQEqa3dl8S</td>\n",
       "    </tr>\n",
       "    <tr>\n",
       "      <th>863</th>\n",
       "      <td>Big River - Take 2</td>\n",
       "      <td>36JJTsSgV2DssuYVmKaozM</td>\n",
       "    </tr>\n",
       "    <tr>\n",
       "      <th>910</th>\n",
       "      <td>I Am a Lonesome Hobo</td>\n",
       "      <td>49pZlXa9pZ6N0j6O4xduoC</td>\n",
       "    </tr>\n",
       "    <tr>\n",
       "      <th>1023</th>\n",
       "      <td>Sitting On a Barbed Wire Fence - Take 2</td>\n",
       "      <td>0JCPsxoUTSPQdm8EeeKp6R</td>\n",
       "    </tr>\n",
       "    <tr>\n",
       "      <th>314</th>\n",
       "      <td>Annie's Going to Sing Her Song - Unreleased, S...</td>\n",
       "      <td>2oGXbxg0ZapA8fwRU9rveo</td>\n",
       "    </tr>\n",
       "    <tr>\n",
       "      <th>497</th>\n",
       "      <td>You're Gonna Quit Me</td>\n",
       "      <td>459GfSqP9n3CT0aytNhwmj</td>\n",
       "    </tr>\n",
       "    <tr>\n",
       "      <th>51</th>\n",
       "      <td>Most Likely You Go Your Way (And I'll Go Mine)</td>\n",
       "      <td>1wPQk8FwuXh7nXS8ytkR6p</td>\n",
       "    </tr>\n",
       "    <tr>\n",
       "      <th>1055</th>\n",
       "      <td>With God on Our Side</td>\n",
       "      <td>5hBOEqqkcQaUgkRhh6EyX4</td>\n",
       "    </tr>\n",
       "    <tr>\n",
       "      <th>483</th>\n",
       "      <td>Stack a Lee</td>\n",
       "      <td>1IuGKDA6SzbRLYZ4ZmEg2Y</td>\n",
       "    </tr>\n",
       "    <tr>\n",
       "      <th>507</th>\n",
       "      <td>Rambling, Gambling Willie - Studio Outtake - 1962</td>\n",
       "      <td>7zGsBZtQQYEU46WGTzXdNx</td>\n",
       "    </tr>\n",
       "    <tr>\n",
       "      <th>407</th>\n",
       "      <td>Mississippi - Outtake from 'Time Out Of Mind' ...</td>\n",
       "      <td>2gkFEceXTqBsBwvK18TgqL</td>\n",
       "    </tr>\n",
       "    <tr>\n",
       "      <th>990</th>\n",
       "      <td>It's Alright, Ma (I'm Only Bleeding)</td>\n",
       "      <td>5Oer8yskMaCGXwGSfM7xr9</td>\n",
       "    </tr>\n",
       "    <tr>\n",
       "      <th>157</th>\n",
       "      <td>Seeing the Real You at Last - Empire Burlesque...</td>\n",
       "      <td>0AbbH779ryoFf4PiKyeWGm</td>\n",
       "    </tr>\n",
       "    <tr>\n",
       "      <th>529</th>\n",
       "      <td>Sitting On a Barbed Wire Fence - Studio Outtak...</td>\n",
       "      <td>7y7OFQj14BnaMuUKp8zSur</td>\n",
       "    </tr>\n",
       "  </tbody>\n",
       "</table>\n",
       "</div>"
      ],
      "text/plain": [
       "                                             track_name  \\\n",
       "1099               Honey, Just Allow Me One More Chance   \n",
       "947   Desolation Row - Live at Royal Albert Hall, Lo...   \n",
       "249               Jesus Is the One - Live July 17, 1981   \n",
       "485                                          Jack-a-Roe   \n",
       "891                                     Song for Canada   \n",
       "276                           There's a Flaw in My Flue   \n",
       "1112    Rambling, Gambling Willie - Witmark Demo - 1962   \n",
       "1014  You Don't Have to Do That - Take 1, Solo Acoustic   \n",
       "218   What Can I Do for You? - Live at Golden Hall, ...   \n",
       "778                                  Going, Going, Gone   \n",
       "193   I Dreamed I Saw St. Augustine - Live at Montre...   \n",
       "1117           Long Ago, Far Away - Witmark Demo - 1962   \n",
       "1087  With God on Our Side - Live at Carnegie Hall, ...   \n",
       "416   The Girl On the Greenbriar Shore - Live at Cot...   \n",
       "32    I Threw It All Away - Live at Nippon Budokan H...   \n",
       "346   I Threw It All Away - Live with The Band, Isle...   \n",
       "991                        It's All Over Now, Baby Blue   \n",
       "863                                  Big River - Take 2   \n",
       "910                                I Am a Lonesome Hobo   \n",
       "1023            Sitting On a Barbed Wire Fence - Take 2   \n",
       "314   Annie's Going to Sing Her Song - Unreleased, S...   \n",
       "497                                You're Gonna Quit Me   \n",
       "51       Most Likely You Go Your Way (And I'll Go Mine)   \n",
       "1055                               With God on Our Side   \n",
       "483                                         Stack a Lee   \n",
       "507   Rambling, Gambling Willie - Studio Outtake - 1962   \n",
       "407   Mississippi - Outtake from 'Time Out Of Mind' ...   \n",
       "990                It's Alright, Ma (I'm Only Bleeding)   \n",
       "157   Seeing the Real You at Last - Empire Burlesque...   \n",
       "529   Sitting On a Barbed Wire Fence - Studio Outtak...   \n",
       "\n",
       "                          id  \n",
       "1099  71XTdtW3bvmIrotG8yYVMS  \n",
       "947   4hIOKB9UN6Cj4lOkn1CAxC  \n",
       "249   2CwVWO0y729HN867N0QiwS  \n",
       "485   43A4KdBB6wlzRqaISolzqV  \n",
       "891   07CPKnNDAOWjHPgxVkhrUE  \n",
       "276   6OwmxcxlraKhUXofqQwgNK  \n",
       "1112  2TMJrLYSGo9ys1rD7sM9Bc  \n",
       "1014  5HgpySxSUjT7wP326hXcXP  \n",
       "218   1jzDM6sfisy1hVuiwB4Vr2  \n",
       "778   5jZLCVKppwm7dGxvb68fTW  \n",
       "193   3xHwiV7qeFejcYyKHF92uT  \n",
       "1117  7eXUTrl2yc5OoyPAzSIpy7  \n",
       "1087  5sCFO2TNqUdNn6PbTcAI3L  \n",
       "416   1RB3gAIO5did2ZWHNVd4oB  \n",
       "32    2Tj7vaqet4a8toDLIqHpN4  \n",
       "346   3ijjFKFtdaTCpIPuP6s7oA  \n",
       "991   4EgKcG7aswxVfQEqa3dl8S  \n",
       "863   36JJTsSgV2DssuYVmKaozM  \n",
       "910   49pZlXa9pZ6N0j6O4xduoC  \n",
       "1023  0JCPsxoUTSPQdm8EeeKp6R  \n",
       "314   2oGXbxg0ZapA8fwRU9rveo  \n",
       "497   459GfSqP9n3CT0aytNhwmj  \n",
       "51    1wPQk8FwuXh7nXS8ytkR6p  \n",
       "1055  5hBOEqqkcQaUgkRhh6EyX4  \n",
       "483   1IuGKDA6SzbRLYZ4ZmEg2Y  \n",
       "507   7zGsBZtQQYEU46WGTzXdNx  \n",
       "407   2gkFEceXTqBsBwvK18TgqL  \n",
       "990   5Oer8yskMaCGXwGSfM7xr9  \n",
       "157   0AbbH779ryoFf4PiKyeWGm  \n",
       "529   7y7OFQj14BnaMuUKp8zSur  "
      ]
     },
     "execution_count": 31,
     "metadata": {},
     "output_type": "execute_result"
    }
   ],
   "source": [
    "recommended_songs_df"
   ]
  },
  {
   "cell_type": "code",
   "execution_count": 35,
   "metadata": {},
   "outputs": [],
   "source": [
    "track_ids = recommended_songs_df['id'].tolist()"
   ]
  },
  {
   "cell_type": "code",
   "execution_count": 37,
   "metadata": {},
   "outputs": [],
   "source": [
    "track_info = sp.tracks(track_ids)"
   ]
  },
  {
   "cell_type": "code",
   "execution_count": 40,
   "metadata": {},
   "outputs": [],
   "source": [
    "track_info_df = pd.DataFrame(track_info['tracks'])"
   ]
  },
  {
   "cell_type": "code",
   "execution_count": 32,
   "metadata": {},
   "outputs": [],
   "source": [
    "user_id = me['id']"
   ]
  },
  {
   "cell_type": "code",
   "execution_count": 33,
   "metadata": {},
   "outputs": [
    {
     "data": {
      "text/plain": [
       "{'collaborative': False,\n",
       " 'description': 'Discovering your personal slice of Bob',\n",
       " 'external_urls': {'spotify': 'https://open.spotify.com/playlist/6OdVHNL4mf8lcWVhmUPUDo'},\n",
       " 'followers': {'href': None, 'total': 0},\n",
       " 'href': 'https://api.spotify.com/v1/playlists/6OdVHNL4mf8lcWVhmUPUDo',\n",
       " 'id': '6OdVHNL4mf8lcWVhmUPUDo',\n",
       " 'images': [],\n",
       " 'name': 'FindYOurBob',\n",
       " 'owner': {'display_name': 'Sam Goodson',\n",
       "  'external_urls': {'spotify': 'https://open.spotify.com/user/stg58661521'},\n",
       "  'href': 'https://api.spotify.com/v1/users/stg58661521',\n",
       "  'id': 'stg58661521',\n",
       "  'type': 'user',\n",
       "  'uri': 'spotify:user:stg58661521'},\n",
       " 'primary_color': None,\n",
       " 'public': True,\n",
       " 'snapshot_id': 'MSwwMzJlZjE2MDNmNTg2NWRlOWUyNjY3OGFlN2MyODczZWQ3N2JhZjBj',\n",
       " 'tracks': {'href': 'https://api.spotify.com/v1/playlists/6OdVHNL4mf8lcWVhmUPUDo/tracks',\n",
       "  'items': [],\n",
       "  'limit': 100,\n",
       "  'next': None,\n",
       "  'offset': 0,\n",
       "  'previous': None,\n",
       "  'total': 0},\n",
       " 'type': 'playlist',\n",
       " 'uri': 'spotify:playlist:6OdVHNL4mf8lcWVhmUPUDo'}"
      ]
     },
     "execution_count": 33,
     "metadata": {},
     "output_type": "execute_result"
    }
   ],
   "source": [
    "sp.user_playlist_create('stg58661521',\"FindYOurBob\", public=True, collaborative=False, description='Discovering your personal slice of Bob')"
   ]
  },
  {
   "cell_type": "code",
   "execution_count": 45,
   "metadata": {},
   "outputs": [],
   "source": [
    "tracks = [\"71XTdtW3bvmIrotG8yYVMS\", \"2gkFEceXTqBsBwvK18TgqL\"]"
   ]
  },
  {
   "cell_type": "code",
   "execution_count": 60,
   "metadata": {},
   "outputs": [
    {
     "data": {
      "text/plain": [
       "{'snapshot_id': 'NCw0MGU0NzA1Y2NkZGE4MzQ1YTZkZTk2NGEyNzE4YTdhYmZiZTAxZGYw'}"
      ]
     },
     "execution_count": 60,
     "metadata": {},
     "output_type": "execute_result"
    }
   ],
   "source": [
    "sp.user_playlist_add_tracks(user_id, '6OdVHNL4mf8lcWVhmUPUDo', track_ids, position=None)"
   ]
  },
  {
   "cell_type": "code",
   "execution_count": null,
   "metadata": {},
   "outputs": [],
   "source": [
    "def create_and_fill_playlist(recommended_songs_df,user):\n",
    "    user_id = user['id']\n",
    "    playlist = sp.user_playlist_create('stg58661521',\"FindYourBob\", public=True, collaborative=False, description='Discovering your personal slice of Bob')\n",
    "    track_ids = recommended_songs_df['id'].tolist()\n",
    "    sp.user_playlist_add_tracks(user_id, playlist['id'], track_ids, position=None)\n",
    "    print(\"Playlist created and filled with recommended songs.\")"
   ]
  },
  {
   "cell_type": "markdown",
   "metadata": {},
   "source": [
    "app scratch"
   ]
  },
  {
   "cell_type": "code",
   "execution_count": 62,
   "metadata": {},
   "outputs": [],
   "source": [
    "def find_closest_album(user_raw,album_features, feature_columns):\n",
    "    max_similarity = -1  \n",
    "    closest_album = None\n",
    "\n",
    "    averages_features = [user_raw[col] for col in feature_columns]\n",
    "    user_features = np.array(averages_features).flatten()\n",
    "\n",
    "    for index, row in album_features.iterrows():\n",
    "        album_features = row[feature_columns].tolist()  \n",
    "        similarity = 1 - distance.cosine(user_features, album_features)  \n",
    "        if similarity > max_similarity:\n",
    "            max_similarity = similarity\n",
    "            closest_album = row['album_name']  \n",
    "\n",
    "    return closest_album"
   ]
  },
  {
   "cell_type": "code",
   "execution_count": 63,
   "metadata": {},
   "outputs": [],
   "source": [
    "def create_and_fill_playlist(recommended_songs_df,user):\n",
    "    user_id = user['id']\n",
    "    playlist = sp.user_playlist_create('stg58661521',\"FindYourBob\", public=True, collaborative=False, description='Discovering your personal slice of Bob')\n",
    "    track_ids = recommended_songs_df['id'].tolist()\n",
    "    sp.user_playlist_add_tracks(user_id, playlist['id'], track_ids, position=None)\n",
    "    print(\"Playlist created and filled with recommended songs.\")"
   ]
  },
  {
   "cell_type": "code",
   "execution_count": 61,
   "metadata": {},
   "outputs": [],
   "source": [
    "from dash import Dash, html, dcc, callback, Output, Input,State"
   ]
  },
  {
   "cell_type": "code",
   "execution_count": 76,
   "metadata": {},
   "outputs": [],
   "source": [
    "app = Dash(__name__)"
   ]
  },
  {
   "cell_type": "code",
   "execution_count": 77,
   "metadata": {},
   "outputs": [],
   "source": [
    "app.layout = html.Div([\n",
    "    html.Div([\n",
    "    html.H1('Find Your Bob'),\n",
    "    html.P('Discover your personal slice of Bob'),\n",
    "    ],style={'font-family': 'Georgia','padding': '10px','textAlign': 'center'}),\n",
    "    html.Div([\n",
    "        html.Button('Find your bob Album', id='album-button', n_clicks=0)\n",
    "    ], style={'textAlign': 'center'}),\n",
    "    html.Div(id='album-recommendation'),\n",
    "    html.Div([\n",
    "        html.Button('Create Playlist', id='playlist-button', n_clicks=0)\n",
    "    ], style={'textAlign': 'center'}),\n",
    "    html.Div(id='playlist-creation')\n",
    "])\n",
    "\n",
    "@app.callback(\n",
    "    Output('album-recommendation', 'children'),\n",
    "    [Input('album-button', 'n_clicks')]\n",
    ")\n",
    "def recommend_album(n_clicks):\n",
    "    closest_album = find_closest_album(averages, bob_album_ag, feature_columns)\n",
    "    if n_clicks > 0:\n",
    "        return f\"The closest album to the user's preferences is: {closest_album}\"\n",
    "    \n",
    "@app.callback(\n",
    "    Output('playlist-creation', 'children'),\n",
    "    [Input('playlist-button', 'n_clicks')]\n",
    ")\n",
    "def create_playlist(n_clicks):\n",
    "    if n_clicks > 0:\n",
    "        create_and_fill_playlist(recommended_songs_df, me)"
   ]
  },
  {
   "cell_type": "code",
   "execution_count": 78,
   "metadata": {},
   "outputs": [
    {
     "data": {
      "text/html": [
       "\n",
       "        <iframe\n",
       "            width=\"100%\"\n",
       "            height=\"650\"\n",
       "            src=\"http://127.0.0.1:8050/\"\n",
       "            frameborder=\"0\"\n",
       "            allowfullscreen\n",
       "            \n",
       "        ></iframe>\n",
       "        "
      ],
      "text/plain": [
       "<IPython.lib.display.IFrame at 0x21cc3a13810>"
      ]
     },
     "metadata": {},
     "output_type": "display_data"
    }
   ],
   "source": [
    "app.run_server(debug=True)"
   ]
  }
 ],
 "metadata": {
  "kernelspec": {
   "display_name": "Python 3",
   "language": "python",
   "name": "python3"
  },
  "language_info": {
   "codemirror_mode": {
    "name": "ipython",
    "version": 3
   },
   "file_extension": ".py",
   "mimetype": "text/x-python",
   "name": "python",
   "nbconvert_exporter": "python",
   "pygments_lexer": "ipython3",
   "version": "3.11.4"
  }
 },
 "nbformat": 4,
 "nbformat_minor": 2
}
